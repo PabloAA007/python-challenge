{
 "cells": [
  {
   "cell_type": "code",
   "execution_count": 1,
   "id": "151bf332-0e7d-44e2-aaf0-c81cae383551",
   "metadata": {},
   "outputs": [],
   "source": [
    "#First we have to find total number of months included in the data awt. We need to import the budget using pandas. Renaming it pd "
   ]
  },
  {
   "cell_type": "code",
   "execution_count": 15,
   "id": "f3e58da7-9da9-4c4d-a7c1-e856ebf0b959",
   "metadata": {
    "tags": []
   },
   "outputs": [],
   "source": [
    "import pandas as pd"
   ]
  },
  {
   "cell_type": "code",
   "execution_count": 16,
   "id": "94728fb7-4c81-43af-8bdc-1f0fb5877649",
   "metadata": {},
   "outputs": [],
   "source": [
    "# Inlude the CSV Data calling it df \"Read is a common term used by programmers. So it can easily read by fellow programers\""
   ]
  },
  {
   "cell_type": "code",
   "execution_count": 17,
   "id": "35a5b6fe-fd40-4724-bfed-e19002bbad4f",
   "metadata": {},
   "outputs": [],
   "source": [
    "df = pd.read_csv(\"budget_data.csv\")"
   ]
  },
  {
   "cell_type": "code",
   "execution_count": 18,
   "id": "26e1ac40-4b6a-484f-9215-2c4d29d64d34",
   "metadata": {},
   "outputs": [],
   "source": [
    "# I will use len for # of rows on file, to find # of months included in Data set #"
   ]
  },
  {
   "cell_type": "code",
   "execution_count": 19,
   "id": "e22e510f-7383-438e-bd97-41bfed517d0e",
   "metadata": {},
   "outputs": [],
   "source": [
    "total_months = len(df)"
   ]
  },
  {
   "cell_type": "code",
   "execution_count": 20,
   "id": "690f70dc-29ec-48f0-964e-24370d6db317",
   "metadata": {},
   "outputs": [],
   "source": [
    "# To calculate total P/L all values must be added up. using .sum()#"
   ]
  },
  {
   "cell_type": "code",
   "execution_count": 21,
   "id": "4dcfa568-d922-4bf2-a1d5-685ccff0f2a2",
   "metadata": {},
   "outputs": [],
   "source": [
    "net_total = df[\"Profit/Losses\"].sum()"
   ]
  },
  {
   "cell_type": "code",
   "execution_count": 22,
   "id": "1d944e68-9a1a-49dc-87f0-d8d0d6b52449",
   "metadata": {
    "tags": []
   },
   "outputs": [],
   "source": [
    "# To calculate the average of the changes in Profit/Losses over the entire period. We need to use diff to calculate difference between each value in P/L. \n",
    "# Results stored in the other column will be called changes_PnL"
   ]
  },
  {
   "cell_type": "code",
   "execution_count": 23,
   "id": "dcfe4c0a-c01f-46b9-bb65-5dd0c2ef5da2",
   "metadata": {},
   "outputs": [],
   "source": [
    "changes_PnL = df[\"Profit/Losses\"].diff()\n",
    "average_change_PnL = changes_PnL.mean()"
   ]
  },
  {
   "cell_type": "code",
   "execution_count": 24,
   "id": "ac0ee98b-342b-4f20-8b12-cc0f054fb721",
   "metadata": {},
   "outputs": [],
   "source": [
    "# Next step will be findng out the greatest increase in profits (date and amount) over the entire period. I found the function changes.max will allow me to find the largest\n",
    "# positive balance and for the date changes.idmax() which will find the the cell besides higher value for the date. I was getting an error because I forgot to define changes"
   ]
  },
  {
   "cell_type": "code",
   "execution_count": 25,
   "id": "0f2cf0a7-5a0e-46e0-add6-8359517f9835",
   "metadata": {},
   "outputs": [],
   "source": [
    "df = pd.read_csv(\"budget_data.csv\")\n",
    "changes = df[\"Profit/Losses\"].diff()\n",
    "greatest_increase_PnL = changes.max()\n",
    "greatest_increase_date = changes.idxmax()"
   ]
  },
  {
   "cell_type": "code",
   "execution_count": 26,
   "id": "247af00b-3391-411f-9987-ac4059bc1056",
   "metadata": {},
   "outputs": [],
   "source": [
    "# # Next step will be findng out the greatest decrease in losses (date and amount) over the entire period. I found the function changes.min will allow me to find the lowest\n",
    "# balance and changes.idxmin for the cell next to min value which is the date."
   ]
  },
  {
   "cell_type": "code",
   "execution_count": 27,
   "id": "e0a54a10-6827-4795-a616-6c1ee5c11fea",
   "metadata": {},
   "outputs": [],
   "source": [
    "df = pd.read_csv(\"budget_data.csv\")\n",
    "changes = df[\"Profit/Losses\"].diff()\n",
    "greatest_decrease_PnL = changes.min()\n",
    "greatest_decrease_date = changes.idxmin()"
   ]
  },
  {
   "cell_type": "code",
   "execution_count": 28,
   "id": "610a067b-3e94-4935-911a-09fbe4a71749",
   "metadata": {},
   "outputs": [],
   "source": [
    "# Now we need to print the information on the terminal using print comand and f so we can add function to text"
   ]
  },
  {
   "cell_type": "code",
   "execution_count": 29,
   "id": "576f1599-b34f-4197-81bc-e25c9b7097d0",
   "metadata": {},
   "outputs": [
    {
     "name": "stdout",
     "output_type": "stream",
     "text": [
      "Financial Analysis\n",
      "----------------------------\n",
      "Total Months: 86\n",
      "Total: $38382578\n",
      "Average Change: $-2315.12\n",
      "Greatest Increase in Profits: 25 ($1926159.0)\n",
      "Greatest Decrease in Losses: 44 ($-2196167.0)\n"
     ]
    }
   ],
   "source": [
    "print(\"Financial Analysis\")\n",
    "print(\"----------------------------\")\n",
    "print(f\"Total Months: {total_months}\")\n",
    "print(f\"Total: ${net_total}\")\n",
    "print(f\"Average Change: ${average_change_PnL:.2f}\")\n",
    "print(f\"Greatest Increase in Profits: {greatest_increase_date} (${greatest_increase_PnL})\")\n",
    "print(f\"Greatest Decrease in Losses: {greatest_decrease_date} (${greatest_decrease_PnL})\")\n"
   ]
  },
  {
   "cell_type": "code",
   "execution_count": 32,
   "id": "aad8a661-c638-4459-b3c3-40f00247ebcb",
   "metadata": {},
   "outputs": [],
   "source": [
    "# Export a text file with the results using with to open a txt file when ran on terminal"
   ]
  },
  {
   "cell_type": "code",
   "execution_count": 35,
   "id": "db77e449-3a9b-4ac9-90be-90ab16711e12",
   "metadata": {},
   "outputs": [],
   "source": [
    "with open(\"Financial_Analysis.txt\", \"w\") as file:\n",
    "    file.write(\"Financial Analysis\\n\")\n",
    "    file.write(\"----------------------------\\n\")\n",
    "    file.write(f\"Total Months: {total_months}\\n\")\n",
    "    file.write(f\"Total: ${net_total}\\n\")\n",
    "    file.write(f\"Average Change: ${average_change_PnL:.2f}\\n\")\n",
    "    file.write(f\"Greatest Increase in Profits: {greatest_increase_date} (${greatest_increase_PnL})\\n\")\n",
    "    file.write(f\"Greatest Decrease in Losses: {greatest_decrease_date} (${greatest_decrease_PnL})\\n\")"
   ]
  },
  {
   "cell_type": "code",
   "execution_count": null,
   "id": "74b26668-08b4-44e0-81b9-bb296ddc3176",
   "metadata": {},
   "outputs": [],
   "source": []
  },
  {
   "cell_type": "code",
   "execution_count": null,
   "id": "5aa2ddc8-7301-4fe2-9453-bd51716e785a",
   "metadata": {},
   "outputs": [],
   "source": []
  }
 ],
 "metadata": {
  "kernelspec": {
   "display_name": "Python 3 (ipykernel)",
   "language": "python",
   "name": "python3"
  },
  "language_info": {
   "codemirror_mode": {
    "name": "ipython",
    "version": 3
   },
   "file_extension": ".py",
   "mimetype": "text/x-python",
   "name": "python",
   "nbconvert_exporter": "python",
   "pygments_lexer": "ipython3",
   "version": "3.9.13"
  }
 },
 "nbformat": 4,
 "nbformat_minor": 5
}
